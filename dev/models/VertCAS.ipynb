{
 "cells": [
  {
   "cell_type": "markdown",
   "source": [
    "# Vertical Collision Avoidance (VCAS)\n",
    "\n",
    "\n",
    "This example [1, 2] considers commercial aircraft, which are required to operate\n",
    "with a collision avoidance system that gives vertical climbrate advisories to\n",
    "pilots to prevent near midair collisions (NMACs). An NMAC occurs when the\n",
    "aircraft are separated by less than 100 ft vertically and 500 ft horizontally."
   ],
   "metadata": {}
  },
  {
   "outputs": [],
   "cell_type": "code",
   "source": [
    "using NeuralNetworkAnalysis"
   ],
   "metadata": {},
   "execution_count": 1
  },
  {
   "cell_type": "markdown",
   "source": [
    "## Model\n",
    "\n",
    "This benchmark is a closed-loop variant of aircraft collision avoidance\n",
    "system ACAS X. The scenario involves two aircraft, the ownship and the\n",
    "intruder, where the ownship is equipped with a collision avoidance system\n",
    "referred to as VerticalCAS [3]. VerticalCAS once every second issues vertical\n",
    "climbrate advisories to the ownship pilot to avoid a near mid-air collision\n",
    "(NMAC), a region where the ownship and intruder are separated by less than\n",
    "100ft vertically and 500ft horizontally. The ownship (black) is assumed\n",
    "to have a constant horizontal speed, and the intruder (red) is assumed to\n",
    "follow a constant horizontal trajectory towards ownship, see Figure 1.\n",
    "The current geometry of the system is described by\n",
    "\n",
    "1) $h(ft)$: Intruder altitude relative to ownship\n",
    "2) $\\dot h_0 (ft/min)$: Ownship vertical climbrate\n",
    "3) $τ(s)$: the seconds until the ownship (black) and intruder (red) are no longer horizontally separated\n",
    "\n",
    "We can, therefore, assume that the intruder is static and the horizontal\n",
    "separation $\\tau$ decreases by one each second.\n",
    "There are 9 advisories and each of them instructs the pilot to accelerate\n",
    "until the vertical climbrate of the ownship complies with the advisory:\n",
    "\n",
    "1) COC: Clear of Conflict\n",
    "2) DNC: Do Not Climb\n",
    "3) DND: Do Not Descend\n",
    "4) DES1500: Descend at least 1500 ft/min\n",
    "5) CL1500: Climb at least 1500 ft/min\n",
    "6) SDES1500: Strengthen Descent to at least 1500 ft/min\n",
    "7) SCL1500: Strengthen Climb to at least 1500 ft/min\n",
    "8) SDES2500: Strengthen Descent to at least 2500 ft/min\n",
    "9) SCL2500: Strengthen Climb to at least 2500 ft/min\n",
    "\n",
    "In addition to the parameters describing the geometry of the encounter, the\n",
    "current state of the system stores the advisory $adv$ issued to the ownship\n",
    "at the previous time step. VerticalCAS is implemented as nine ReLU networks\n",
    "$N_i$, one for each (previous) advisory, with three inputs\n",
    "$(h,\\dot{h}_0,\\tau)$, five fully-connected hidden layers of 20 units each,\n",
    "and nine outputs representing the score of each possible advisory. Therefore,\n",
    "given a current state $(h,\\dot{h}_0,\\tau,\\text{adv})$, the new advisory\n",
    "$adv$ is obtained by computing the argmax of the output of $N_{\\text{adv}}$\n",
    "on $(h,\\dot{h}_0,\\tau)$.\n",
    "Given the new advisory, if the current climbrate does not comply with it, the\n",
    "pilot can choose acceleration $\\ddot{h}_0$ from the given set:\n",
    "\n",
    "1) COC: $\\{-\\frac{g}{8}, 0, \\frac{g}{8}\\}$\n",
    "2) DNC: $\\{-\\frac{g}{3}, -\\frac{7g}{24}, -\\frac{g}{4}\\}$\n",
    "3) DND: $\\{\\frac{g}{4}, \\frac{7g}{24}, \\frac{g}{3}\\}$\n",
    "4) DES1500: $\\{-\\frac{g}{3}, -\\frac{7g}{24}, -\\frac{g}{4}\\}$\n",
    "5) CL1500: $\\{\\frac{g}{4}, \\frac{7g}{24}, \\frac{g}{3}\\}$\n",
    "6) SDES1500: $\\{-\\frac{g}{3}\\}$\n",
    "7) SCL1500: $\\{\\frac{g}{3}\\}$\n",
    "8) SDES2500: $\\{-\\frac{g}{3}\\}$\n",
    "9) SCL2500: $\\{\\frac{g}{3}\\}$\n",
    "\n",
    "where $g$ represents the gravitational constant $32.2 \\ \\text{ft/s}^2$.\n",
    "If the new advisory is COC(1), then it can be any acceleration from the set ${−g/8, 0, g/8}$.\n",
    "For all remaining advisories, if the previous advisory coincides with the new one and the\n",
    "current climb rate complies with the new advisory (e.g., $\\dot{h}_0$ is non-positive for DNC and\n",
    "$\\dot{h}_0 ≥ 1500$ for CL1500) the acceleration `\\ddot{h}_0$ is $0$.\n",
    "\n",
    "Given the current system state $(h,\\dot{h}_0,\\tau,\\text{adv})$, the new\n",
    "advisory $\\text{adv}'$ and the acceleration $\\ddot{h}_0$, the new state\n",
    "of the system $(h(t+1),\\dot{h}_0(t+1),\\tau(t+1),\\text{adv}(t+1))$ can\n",
    "be computed as follows:\n",
    "\n",
    "$$\n",
    "\\begin{aligned}\n",
    "h(t+1) &=& h - \\dot{h}_0 \\Delta\\tau - 0.5 \\ddot{h}_0 \\Delta\\tau^2 \\\\\n",
    "\\dot{h}_0(t+1) &=& \\dot{h}_0 + \\ddot{h}_0 \\Delta\\tau \\\\\n",
    "\\tau(t+1) &=& \\tau - \\Delta\\tau \\\\\n",
    "\\text{adv}(t+1) &=& \\text{adv}'\n",
    "\\end{aligned}\n",
    "$$\n",
    "where $\\Delta\\tau=1$."
   ],
   "metadata": {}
  },
  {
   "outputs": [],
   "cell_type": "code",
   "source": [
    "const g = 32.2  # gravitational constant\n",
    "\n",
    "# accelerations (middle)\n",
    "const ACC_MIDDLE = Dict(:COC => 0.0, :DNC => -7g/24, :DND => 7g/24,\n",
    "                        :DES1500 => -7g/24, :CL1500 => 7g/24, :SDES1500 => -g/3,\n",
    "                        :SCL1500 => g/3, :SDES2500 => -g/3, :SCL2500 => g/3)\n",
    "\n",
    "# continuous dynamics matrix (h, hdot0)\n",
    "const Δτ = 1.0\n",
    "const A = [1  -Δτ; 0  1.];"
   ],
   "metadata": {},
   "execution_count": 2
  },
  {
   "cell_type": "markdown",
   "source": [
    "We load the controllers in a dictionary with the keys being the advisories."
   ],
   "metadata": {}
  },
  {
   "outputs": [],
   "cell_type": "code",
   "source": [
    "CONTROLLERS = Dict{Symbol, Any}()\n",
    "\n",
    "CTRL_IDX = [:COC, :DNC, :DND, :DES1500,\n",
    "            :CL1500, :SDES1500, :SCL1500,\n",
    "            :SDES2500, :SCL2500]\n",
    "\n",
    "path = @modelpath(\"VertCAS\", \"\")\n",
    "for i = 1:9\n",
    "    file = joinpath(path, \"VertCAS_noResp_pra0$(i)_v9_20HU_200.nnet\")\n",
    "    adv = CTRL_IDX[i]\n",
    "    CONTROLLERS[adv] = read_nnet(file)\n",
    "end\n",
    "\n",
    "\n",
    "struct State{T, N}\n",
    "    state::T # state for (h, hdot0) variables\n",
    "    τ::N\n",
    "    adv::Symbol\n",
    "end\n",
    "\n",
    "\n",
    "ADVISORIES = Dict{Symbol, Any}()\n",
    "\n",
    "# for every advisory, return a function to check\n",
    "# whether the current climbrate complies with the advisory or not\n",
    "# if the advisory *does not* comply => it is changed according to the ACC dictionary\n",
    "# otherwise, the new acceleration is zero\n",
    "using Symbolics\n",
    "@variables x\n",
    "\n",
    "ADVISORIES[:COC] = EmptySet(1)\n",
    "ADVISORIES[:DNC] = HalfSpace(x <= 0)\n",
    "ADVISORIES[:DND] = HalfSpace(x >= 0)\n",
    "ADVISORIES[:DES1500] = HalfSpace(x <= -1500)\n",
    "ADVISORIES[:CL1500] = HalfSpace(x >= 1500)\n",
    "ADVISORIES[:SDES1500] = HalfSpace(x <= -1500)\n",
    "ADVISORIES[:SCL1500] = HalfSpace(x >= 1500)\n",
    "ADVISORIES[:SDES2500] = HalfSpace(x <= -2500)\n",
    "ADVISORIES[:SCL2500] = HalfSpace(x >= 2500)\n",
    "\n",
    "# this function receives X = [h, hdot0, τ, adv′] and the\n",
    "# *previous* advisory adv\n",
    "function get_acceleration(X::State, adv; ACC=ACC_MIDDLE)\n",
    "\n",
    "    # obtain projection on hdot\n",
    "    hdot = _interval(X.state, 2)\n",
    "\n",
    "    # transform units from ft/s to ft/min\n",
    "    hdot = 60 * hdot\n",
    "\n",
    "    # new advisory\n",
    "    adv′ = X.adv\n",
    "\n",
    "    # check whether the current state complies with the advisory\n",
    "    comply = hdot ⊆ ADVISORIES[adv′]\n",
    "\n",
    "    if adv == adv′ && comply\n",
    "        return 0.0\n",
    "    else\n",
    "        return ACC[adv′]\n",
    "    end\n",
    "end\n",
    "\n",
    "# scalar case; alg is ignored\n",
    "function forward_adv(X::Singleton, τ, adv; alg=nothing)\n",
    "    v = vcat(element(X), τ)\n",
    "    u = forward(CONTROLLERS[adv], v)\n",
    "    imax = argmax(u)\n",
    "    return CTRL_IDX[imax]\n",
    "end\n",
    "\n",
    "# set-based case\n",
    "function forward_adv(X::AbstractZonotope, τ, adv; alg=Ai2())\n",
    "    Y = cartesian_product(X, Singleton([τ]))\n",
    "\n",
    "    out = forward_network(alg, CONTROLLERS[adv], Y)\n",
    "\n",
    "    imax = argmax(high(out))\n",
    "    return CTRL_IDX[imax]\n",
    "end\n",
    "\n",
    "function VCAS!(out::Vector{State{T, N}}, KMAX; ACC=ACC_MIDDLE, alg_nn=Ai2()) where {T, N}\n",
    "\n",
    "    # unpack initial state\n",
    "    X0 = first(out)\n",
    "    S = X0.state\n",
    "    τ = X0.τ\n",
    "    adv = X0.adv\n",
    "\n",
    "    # get initial acceleration\n",
    "    hddot = ACC[adv]\n",
    "\n",
    "    for i in 1:KMAX\n",
    "        # compute next state\n",
    "        b = [-hddot*Δτ^2 / 2, hddot * Δτ]\n",
    "        S′ = affine_map(A, S, b)\n",
    "        τ′ = τ - 1\n",
    "        adv′ = forward_adv(S′, τ′, adv, alg=alg_nn)\n",
    "\n",
    "        # store new state\n",
    "        X′ = State(S′, τ′, adv′)\n",
    "        push!(out, X′)\n",
    "\n",
    "        # get acceleration from network\n",
    "        # this logic only works for ACC_MIDDLE\n",
    "        hddot = get_acceleration(X′, adv; ACC=ACC)\n",
    "\n",
    "        # update current state\n",
    "        S = S′\n",
    "        τ = τ′\n",
    "        adv = adv′\n",
    "    end\n",
    "    return out\n",
    "end;"
   ],
   "metadata": {},
   "execution_count": 3
  },
  {
   "cell_type": "markdown",
   "source": [
    "## Specifications\n",
    "\n",
    "For this benchmark the aim is to verify that the ownship avoids entering the\n",
    "NMAC zone after $k \\in \\{1, \\dots, 10\\}$ time steps, i.e., $h(k) > 100$ or\n",
    "$h(k) < -100$, for all possible choices of acceleration by the pilot. The\n",
    "set of initial states considered is as follows: $h(0) \\in [-133, -129]$,\n",
    "$\\dot{h}_0(0) \\in \\{-19.5, -22.5, -25.5, -28.5\\}$, $\\tau(0) = 25$ and\n",
    "$\\text{adv}(0) = \\text{COC}$."
   ],
   "metadata": {}
  },
  {
   "outputs": [],
   "cell_type": "code",
   "source": [
    "bad_states = HalfSpace([1.0, 0.0], 100.) ∩ HalfSpace([-1.0, 0.0], 100.)\n",
    "\n",
    "# property for guaranteed violation\n",
    "predicate = X -> X ⊆ bad_states\n",
    "predicate_sol = sol -> any(predicate(R) for F in sol for R in F);"
   ],
   "metadata": {},
   "execution_count": 4
  },
  {
   "cell_type": "markdown",
   "source": [
    "## Results"
   ],
   "metadata": {}
  },
  {
   "cell_type": "markdown",
   "source": [
    "### Simulation"
   ],
   "metadata": {}
  },
  {
   "outputs": [],
   "cell_type": "code",
   "source": [
    "const h0 = Interval(-133, -129)\n",
    "const hdot0 = [-19.5,-22.5, -25.5, -28.5]\n",
    "const τ0 = 25.0\n",
    "const adv0 = :COC\n",
    "\n",
    "function _random_states(k=1, include_vertices::Bool=false, rand_h0::Bool=true)\n",
    "    N = Float64\n",
    "    T = Singleton{N, Vector{N}}\n",
    "    states = Vector{State{T, N}}()\n",
    "    xs = sample(h0, k, include_vertices=include_vertices)\n",
    "    for x in xs\n",
    "        if rand_h0\n",
    "            # use a random value for y\n",
    "            y = hdot0[rand(1:4)]\n",
    "            S0 = State(Singleton([x[1], y]), τ0, adv0)\n",
    "            push!(states, S0)\n",
    "            continue\n",
    "        end\n",
    "        # use all possible values for y\n",
    "        for i in 1:4\n",
    "            y = hdot0[i]\n",
    "            S0 = State(Singleton([x[1], y]), τ0, adv0)\n",
    "            push!(states, S0)\n",
    "        end\n",
    "    end\n",
    "    return states\n",
    "end\n",
    "\n",
    "function _all_states()\n",
    "    S0 = [convert(Zonotope, concretize(h0 × Singleton([hdot0[i]]))) for i in 1:4]\n",
    "    return [State(S0i, τ0, adv0) for S0i in S0]\n",
    "end\n",
    "\n",
    "function simulate_VCAS(X0::State; KMAX=10)\n",
    "    out = [X0]\n",
    "    sizehint!(out, KMAX+1)\n",
    "\n",
    "    VCAS!(out, KMAX, ACC=ACC_MIDDLE)\n",
    "    return out\n",
    "end\n",
    "\n",
    "# project onto the h variable\n",
    "function _project(X::Vector{State{T, N}}) where {T<:Singleton, N}\n",
    "    return [Singleton([Xi.state.element[1], Xi.τ]) for Xi in X]\n",
    "end\n",
    "\n",
    "_interval(X::LazySet, i) = overapproximate(Projection(X, (i,)), Interval)\n",
    "\n",
    "function _project(X::Vector{State{T, N}}) where {T<:Zonotope, N}\n",
    "    Xint = [_interval(Xi.state, 1) × Singleton([Xi.τ]) for Xi in X]\n",
    "end\n",
    "\n",
    "function run(X0)\n",
    "    ensemble = [simulate_VCAS(X0i) for X0i in X0]\n",
    "    res = _project.(ensemble)\n",
    "    return res\n",
    "end\n",
    "\n",
    "function check(sol)\n",
    "    println(\"property checking\")\n",
    "    res_pred = @timed predicate_sol(sol)\n",
    "    print_timed(res_pred)\n",
    "    if res_pred.value\n",
    "        println(\"The property is violated.\")\n",
    "    else\n",
    "        println(\"The property may be satisfied.\")\n",
    "    end\n",
    "end;"
   ],
   "metadata": {},
   "execution_count": 5
  },
  {
   "cell_type": "markdown",
   "source": [
    "Simulation result for random choice of velocity:"
   ],
   "metadata": {}
  },
  {
   "outputs": [
    {
     "name": "stdout",
     "output_type": "stream",
     "text": [
      "48 simulations with central advisories\n",
      "property checking\n",
      "  0.108368 seconds (164.09 k allocations: 10.039 MiB)\n",
      "The property is violated.\n",
      "total analysis time\n",
      "  0.649025 seconds (1.09 M allocations: 67.075 MiB)\n"
     ]
    }
   ],
   "cell_type": "code",
   "source": [
    "X0 = _random_states(10, true, false)  # randomly sampled points (incl. vertices)\n",
    "println(\"$(length(X0)) simulations with central advisories\")\n",
    "res = @timed begin\n",
    "    res1 = run(X0)\n",
    "    check(res1)\n",
    "end\n",
    "println(\"total analysis time\")\n",
    "print_timed(res);"
   ],
   "metadata": {},
   "execution_count": 6
  },
  {
   "cell_type": "markdown",
   "source": [
    "Simulation result for all choices of velocity:"
   ],
   "metadata": {}
  },
  {
   "outputs": [
    {
     "name": "stdout",
     "output_type": "stream",
     "text": [
      "flowpipe construction (unsound) with central advisories\n",
      "property checking\n",
      "  0.000018 seconds (16 allocations: 448 bytes)\n",
      "The property is violated.\n",
      "total analysis time\n",
      "  0.169849 seconds (257.44 k allocations: 16.771 MiB)\n"
     ]
    }
   ],
   "cell_type": "code",
   "source": [
    "println(\"flowpipe construction (unsound) with central advisories\")\n",
    "res = @timed begin\n",
    "    res2 = run(_all_states())\n",
    "    check(res1)\n",
    "end\n",
    "println(\"total analysis time\")\n",
    "print_timed(res);"
   ],
   "metadata": {},
   "execution_count": 7
  },
  {
   "cell_type": "markdown",
   "source": [
    "Finally we plot the results:"
   ],
   "metadata": {}
  },
  {
   "outputs": [
    {
     "output_type": "execute_result",
     "data": {
      "text/plain": "Plot{Plots.GRBackend() n=49}",
      "image/png": "[encoded data removed]"
     },
     "metadata": {},
     "execution_count": 8
    }
   ],
   "cell_type": "code",
   "source": [
    "using Plots\n",
    "import DisplayAs\n",
    "\n",
    "function plot_helper()\n",
    "    fig = plot(xlims=(-200, 200), ylims=(14, 26), xlab=\"h (vertical distance)\",\n",
    "               ylab=\"τ (time to reach horizontally)\")\n",
    "    plot!(fig, bad_states, alpha=0.2, c=:red, lab=\"unsafe states\")\n",
    "    return fig\n",
    "end\n",
    "\n",
    "fig = plot_helper()\n",
    "for o in res1\n",
    "    plot!(fig, o, alpha=1.0)\n",
    "end\n",
    "fig = DisplayAs.Text(DisplayAs.PNG(fig))\n",
    "# savefig(\"VertCAS-rand.png\")\n",
    "fig"
   ],
   "metadata": {},
   "execution_count": 8
  },
  {
   "outputs": [
    {
     "output_type": "execute_result",
     "data": {
      "text/plain": "Plot{Plots.GRBackend() n=45}",
      "image/png": "[encoded data removed]"
     },
     "metadata": {},
     "execution_count": 9
    }
   ],
   "cell_type": "code",
   "source": [
    "fig = plot_helper()\n",
    "for (i, c) in [(1, :blue), (2, :orange), (3, :green), (4, :cyan)]\n",
    "    [plot!(fig, o, lw=2.0, alpha=1., markershape=:none, seriestype=:shape, c=c) for o in res2[i]]\n",
    "end\n",
    "fig = DisplayAs.Text(DisplayAs.PNG(fig))\n",
    "# savefig(\"VertCAS-sets.png\")\n",
    "fig"
   ],
   "metadata": {},
   "execution_count": 9
  },
  {
   "cell_type": "markdown",
   "source": [
    "## References"
   ],
   "metadata": {}
  },
  {
   "cell_type": "markdown",
   "source": [
    "[1] [Julian, K. D., & Kochenderfer, M. J. (2019). A reachability method for\n",
    "verifying dynamical systems with deep neural network controllers.\n",
    "arXiv preprint arXiv:1903.00520.](https://arxiv.org/pdf/1903.00520.pdf)\n",
    "\n",
    "[2] Akintunde, M. E., Botoeva, E., Kouvaros, P., & Lomuscio, A. (2020, May).\n",
    "[Formal Verification of Neural Agents in Non-deterministic Environments.\n",
    "In Proceedings of the 19th International Conference on Autonomous Agents and\n",
    "Multiagent Systems (pp. 25-33).](http://ifaamas.org/Proceedings/aamas2020/pdfs/p25.pdf)"
   ],
   "metadata": {}
  }
 ],
 "nbformat_minor": 3,
 "metadata": {
  "language_info": {
   "file_extension": ".jl",
   "mimetype": "application/julia",
   "name": "julia",
   "version": "1.6.1"
  },
  "kernelspec": {
   "name": "julia-1.6",
   "display_name": "Julia 1.6.1",
   "language": "julia"
  }
 },
 "nbformat": 4
}
