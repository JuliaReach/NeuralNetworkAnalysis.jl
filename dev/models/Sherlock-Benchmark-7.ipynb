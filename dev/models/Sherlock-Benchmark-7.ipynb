{
 "cells": [
  {
   "cell_type": "markdown",
   "source": [
    "# 3D system with sliding mode controller\n",
    "\n",
    "\n",
    "The model was first proposed in [^YH12], where the authors originally designed a\n",
    "discontinuous sliding mode controller for this system."
   ],
   "metadata": {}
  },
  {
   "cell_type": "markdown",
   "source": [
    "## Model\n",
    "\n",
    "The model is a three-dimensional system given by the following equations:\n",
    "\n",
    "$$\n",
    "\\begin{aligned}\n",
    "\\dot{x}_1 &= x_3^3 - x_2 + w \\\\\n",
    "\\dot{x}_2 &= x_3 \\\\\n",
    "\\dot{x}_3 &= u\n",
    "\\end{aligned}\n",
    "$$\n",
    "where w is a bounded error in the range ``[−0.01, 0.01]``. A neural network controller\n",
    "was trained for this system, using a model predictive controller as a demonstrator.\n",
    "The trained network had 2 hidden layers, with 300 neurons in the first layer,\n",
    "and 200 in the second layer. The sampling time for this controller was 0.5s."
   ],
   "metadata": {}
  },
  {
   "outputs": [],
   "cell_type": "code",
   "source": [
    "using NeuralNetworkAnalysis"
   ],
   "metadata": {},
   "execution_count": 1
  },
  {
   "cell_type": "markdown",
   "source": [
    "The spatial variables are aguemte"
   ],
   "metadata": {}
  },
  {
   "outputs": [],
   "cell_type": "code",
   "source": [
    "@taylorize function f!(dx, x, p, t)\n",
    "    x₁, x₂, x₃, x₄, w, u = x\n",
    "\n",
    "    dx[1] = x₃^3 - x₂ + w\n",
    "    dx[2] = x₃\n",
    "    dx[3] = u\n",
    "    dx[4] = zero(x₄) # w\n",
    "    dx[5] = zero(x₅) # u\n",
    "    return dx\n",
    "end"
   ],
   "metadata": {},
   "execution_count": 2
  },
  {
   "cell_type": "markdown",
   "source": [
    "define the initial-value problem"
   ],
   "metadata": {}
  },
  {
   "outputs": [],
   "cell_type": "code",
   "source": [
    "X₀ = Hyperrectangle(low=[0.35, 0.45, 0.25], high=[0.45, 0.55, 0.35])\n",
    "W₀ = Interval(-0.01, 0.01)\n",
    "U₀ = Interval(2.0, 2.0)\n",
    "prob = @ivp(x' = f!(x), dim: 5, x(0) ∈ X₀ × W₀ × U₀);"
   ],
   "metadata": {},
   "execution_count": 3
  },
  {
   "cell_type": "markdown",
   "source": [
    "solve it"
   ],
   "metadata": {}
  },
  {
   "outputs": [],
   "cell_type": "code",
   "source": [
    "##sol = solve(prob, T=2.0);"
   ],
   "metadata": {},
   "execution_count": 4
  },
  {
   "cell_type": "markdown",
   "source": [
    "## Specifications\n",
    "\n",
    "The verification problem here is that of target reachability. For an initial set\n",
    "of ``x₁ ∈ [0.35, 0.45]``, ``x₂ ∈ [0.45, 0.55]``, ``x₃ ∈ [0.25, 0, 35]``, it is\n",
    "required to prov that the system converges to ``x ∈ [−0.032, 0.032]^3`` within ``2s``."
   ],
   "metadata": {}
  },
  {
   "cell_type": "markdown",
   "source": [
    "## Results"
   ],
   "metadata": {}
  },
  {
   "cell_type": "markdown",
   "source": [
    "## References"
   ],
   "metadata": {}
  },
  {
   "cell_type": "markdown",
   "source": [
    "[^YH12]: Dong-Hae Yeom and Young Hoon Joo. [*Control Lyapunov function design by\n",
    "         cancelling input singularity.*](http://www.koreascience.or.kr/article/JAKO201220962918909.page).\n",
    "         International Journal of Fuzzy Logic and Intelligent Systems, 12, 06 2012."
   ],
   "metadata": {}
  }
 ],
 "nbformat_minor": 3,
 "metadata": {
  "language_info": {
   "file_extension": ".jl",
   "mimetype": "application/julia",
   "name": "julia",
   "version": "1.6.1"
  },
  "kernelspec": {
   "name": "julia-1.6",
   "display_name": "Julia 1.6.1",
   "language": "julia"
  }
 },
 "nbformat": 4
}
