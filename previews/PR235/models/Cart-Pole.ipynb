{
 "cells": [
  {
   "cell_type": "markdown",
   "source": [
    "# Nonlinear Cart-Pole\n",
    "\n",
    "\n",
    "The model is a version of the cart-pole introduced by Barto, Sutton, and Anderson in [1]."
   ],
   "metadata": {}
  },
  {
   "cell_type": "markdown",
   "source": [
    "## Model\n",
    "\n",
    "The dynamics of the cart-pole system are described as follows:\n",
    "\n",
    "$$\n",
    "\\begin{aligned}\n",
    "\\ddot{x} &= \\dfrac{u + mlω^2sin(θ)}{m_t} - \\dfrac{ml(g sin(θ)- cos(θ))\n",
    "            (\\dfrac{u + mlω^2sin(θ)}{m_t})}{l(\\dfrac{4}{3} - \\dfrac{m cos(θ)^2}{m_t})}\n",
    "            \\dfrac{cos(θ)}{m_t}    \\\\\n",
    "\\ddot{θ} &= \\dfrac{(g sin(θ)- cos(θ))(\\dfrac{u + mlω^2sin(θ)}{m_t})}{l(\\dfrac{4}{3}\n",
    "            - \\dfrac{m cos(θ)^2}{m_t})} \\dfrac{cos(θ)}{m_t}\n",
    "\\end{aligned}\n",
    "$$\n",
    "where ``u ∈ {−10,10}`` is the input force, which either pushes the cart left\n",
    "or right, ``g = 9.8`` is gravity, ``m = 0.1`` is the pole’s mass, ``l = 0.5``\n",
    "is half the pole’s length , ``m_t = 1.1`` is the total mass, ``x`` is the\n",
    "position of the cart, θ is the angle of the pendulum with respect to the\n",
    "positive y-axis, ``v = \\dot{x}`` is the linear velocity of the cart, and\n",
    "``ω = \\dot{θ}`` is the angular velocity of the pendulum. The controller has four\n",
    "inputs ``(x, \\dot{x}, \\theta, ̇\\dot{\\theta})``, four layers with ``[24, 48, 12, 2]`` neurons\n",
    "respectively, and two outputs. The two outputs are then compared, and the\n",
    "input sent to the plant depends on which output index has the greatest value.\n",
    " Thus, as an example if ``\\textrm{output}_1 > \\textrm{output}_2`` then the input force supplied\n",
    "to the plant is 10.  However if ``\\textrm{output}_1 < \\textrm{output}_2`` then the input supplied\n",
    "to the plant is -10."
   ],
   "metadata": {}
  },
  {
   "outputs": [],
   "cell_type": "code",
   "source": [
    "using NeuralNetworkAnalysis\n",
    "\n",
    "@taylorize function cartpole!(du, u, p, t)\n",
    "    local f, m, l, mt, g = 10, 0.1, 0.5, 1.1, 9.8\n",
    "    sinθ = sin(u[3])\n",
    "    cosθ = cos(u[3])\n",
    "    aux = (f + m*l*u[4]^2*sinθ) / mt\n",
    "    aux2 = l*(4/3 - m*cosθ^2/mt)\n",
    "    aux3 = (g*sinθ- cosθ) * aux / aux2\n",
    "    aux4 = cosθ/mt\n",
    "    aux5 = m*l*aux3\n",
    "\n",
    "    du[1] = u[2]\n",
    "    du[2] = aux - aux5 * aux4\n",
    "    du[3] = u[4]\n",
    "    du[4] = aux3 * aux4\n",
    "\n",
    "    return du\n",
    "end"
   ],
   "metadata": {},
   "execution_count": 1
  },
  {
   "cell_type": "markdown",
   "source": [
    "define the initial-value problem"
   ],
   "metadata": {}
  },
  {
   "outputs": [
    {
     "output_type": "execute_result",
     "data": {
      "text/plain": "InitialValueProblem{BlackBoxContinuousSystem{typeof(Main.##1443.cartpole!)}, Hyperrectangle{Float64, Vector{Float64}, Vector{Float64}}}(BlackBoxContinuousSystem{typeof(Main.##1443.cartpole!)}(Main.##1443.cartpole!, 4), Hyperrectangle{Float64, Vector{Float64}, Vector{Float64}}([0.0, 0.0, 0.0, 0.0], [0.05, 0.05, 0.05, 0.05]))"
     },
     "metadata": {},
     "execution_count": 2
    }
   ],
   "cell_type": "code",
   "source": [
    "X₀ = Hyperrectangle(low=[-0.05, -0.05, -0.05, -0.05], high=[0.05, 0.05, 0.05, 0.05])\n",
    "\n",
    "prob = @ivp(x' = cartpole!(x), dim: 4, x(0) ∈ X₀)"
   ],
   "metadata": {},
   "execution_count": 2
  },
  {
   "cell_type": "markdown",
   "source": [
    "solve it"
   ],
   "metadata": {}
  },
  {
   "outputs": [],
   "cell_type": "code",
   "source": [
    "# sol = solve(prob, T=1.0, alg=TMJets(maxsteps=20_000, abstol=1e-10));"
   ],
   "metadata": {},
   "execution_count": 3
  },
  {
   "cell_type": "markdown",
   "source": [
    "## Specifications\n",
    "\n",
    "For this benchmark, the verification objective is to demonstrate that the\n",
    "pole will eventually reach the upward position and that it will remain there.\n",
    " In other words, the goal is to achieve a value of ``θ = 0`` and stay there.\n",
    " Some other specifications to be met are, for at least 12 seconds,\n",
    "``x ∈ [-2.4,2.4]`` and ``θ ∈ [-15,15]`` degrees. The initial conditions for\n",
    "all state variables were chosen uniformly at random between ``[-0.05, 0.05]``."
   ],
   "metadata": {}
  },
  {
   "cell_type": "markdown",
   "source": [
    "## Results"
   ],
   "metadata": {}
  },
  {
   "outputs": [
    {
     "output_type": "execute_result",
     "data": {
      "text/plain": "Network(NeuralVerification.Layer[NeuralVerification.Layer{NeuralVerification.ReLU, Float64}([0.2523224651813507 -0.24556699395179749 -1.150375485420227 -0.7059182524681091; -0.44626951217651367 -0.0048289792612195015 -1.1998661756515503 -0.7547398209571838; … ; 0.6441559195518494 0.5864951610565186 0.47801515460014343 0.2738604247570038; 0.4826578199863434 0.413881778717041 0.7180394530296326 -0.012315474450588226], [-0.006305568851530552, 0.1976671665906906, -0.17124159634113312, 0.5209460854530334, 0.5022096633911133, 0.6057475209236145, 0.8231613039970398, 0.8142926692962646, 0.6210646033287048, 0.49808186292648315  …  -0.41809532046318054, 0.6946982741355896, 0.18341603875160217, 0.6705408692359924, 0.40656644105911255, 0.6024280190467834, 0.23196551203727722, 0.5509945154190063, 0.5545315742492676, 0.41871100664138794], NeuralVerification.ReLU()), NeuralVerification.Layer{NeuralVerification.ReLU, Float64}([0.1779315322637558 0.1859981119632721 … 0.12950178980827332 -0.35585907101631165; -0.6998161673545837 -0.30475515127182007 … 0.552330493927002 0.3184410035610199; … ; -0.7010025382041931 -0.29841750860214233 … -0.024344580247998238 0.047758739441633224; -0.8388831615447998 -0.2882627844810486 … 0.5220506191253662 0.11716515570878983], [-0.07227612286806107, 0.4527367055416107, 0.7319183945655823, 0.7375999093055725, 0.6075573563575745, -0.04911937937140465, -0.10863905400037766, 0.5877278447151184, 0.5645272731781006, 0.32895809412002563  …  -0.07150893658399582, 0.5064792633056641, 0.4986495077610016, 0.03986748307943344, 0.6850265860557556, 0.15552784502506256, -0.06518517434597015, 0.5965895056724548, 0.5690827369689941, 0.5481753945350647], NeuralVerification.ReLU()), NeuralVerification.Layer{NeuralVerification.ReLU, Float64}([-0.22576504945755005 0.7013074159622192 … 0.5330601930618286 0.8054625391960144; 0.005743558052927256 -0.06361359357833862 … 0.09291985630989075 0.20784226059913635; … ; -0.22915758192539215 0.1059405729174614 … -0.23996080458164215 -0.3096511662006378; 0.16440729796886444 -0.09570931643247604 … -0.1243891566991806 -0.3396061062812805], [0.6561357378959656, -0.12927217781543732, 0.33471861481666565, -0.0017483634874224663, 0.2697959542274475, -0.07220450043678284, 0.5422422885894775, 0.6734175682067871, -0.13851413130760193, 0.38917261362075806, -0.0730796754360199, -0.06714211404323578], NeuralVerification.ReLU()), NeuralVerification.Layer{NeuralVerification.Id, Float64}([0.24803364276885986 -0.4708011746406555 … 0.19456170499324799 -0.2804962694644928; 1.0806801319122314 0.43321555852890015 … -0.5851864814758301 0.22761817276477814], [0.38837674260139465, 0.6076366305351257], NeuralVerification.Id())])"
     },
     "metadata": {},
     "execution_count": 4
    }
   ],
   "cell_type": "code",
   "source": [
    "using MAT\n",
    "path = joinpath(@modelpath(\"Cart-Pole\", \"CartPole_Controller.mat\"))\n",
    "controller = read_nnet_mat(path, key=\"controller\")"
   ],
   "metadata": {},
   "execution_count": 4
  },
  {
   "cell_type": "markdown",
   "source": [
    "## References"
   ],
   "metadata": {}
  },
  {
   "cell_type": "markdown",
   "source": [
    "[^BSA83]: A. G. Barto, R. S. Sutton, and C. W. Anderson. *Neuronlike adaptive\n",
    "          elements that can solve difficult learning control problems.*\n",
    "          [IEEE Transactions on Systems, Man, and Cybernetics, SMC-13(5):834–846,\n",
    "          Sep. 1983](https://ieeexplore.ieee.org/abstract/document/6313077)."
   ],
   "metadata": {}
  }
 ],
 "nbformat_minor": 3,
 "metadata": {
  "language_info": {
   "file_extension": ".jl",
   "mimetype": "application/julia",
   "name": "julia",
   "version": "1.6.1"
  },
  "kernelspec": {
   "name": "julia-1.6",
   "display_name": "Julia 1.6.1",
   "language": "julia"
  }
 },
 "nbformat": 4
}
