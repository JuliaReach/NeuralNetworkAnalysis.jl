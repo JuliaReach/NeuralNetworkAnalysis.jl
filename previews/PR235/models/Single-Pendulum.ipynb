{
 "cells": [
  {
   "cell_type": "markdown",
   "source": [
    "# Single Inverted Pendulum\n",
    "\n",
    "\n",
    "This is a classical inverted pendulum. A ball of mass $m$ is attached to a\n",
    "massless beam of length $L$.  The beam is actuated with a torque $T$ and\n",
    "we assume viscous friction exists with a coefficient of $c$."
   ],
   "metadata": {}
  },
  {
   "outputs": [],
   "cell_type": "code",
   "source": [
    "using NeuralNetworkAnalysis\n",
    "using NeuralNetworkAnalysis: SingleEntryVector"
   ],
   "metadata": {},
   "execution_count": 1
  },
  {
   "cell_type": "markdown",
   "source": [
    "The following option determines whether the falsification settings should be\n",
    "used or not. The falsification settings are sufficient to show that the safety\n",
    "property is violated. Concretely we start from an initial point and use a\n",
    "smaller time step."
   ],
   "metadata": {}
  },
  {
   "outputs": [],
   "cell_type": "code",
   "source": [
    "const falsification = true;"
   ],
   "metadata": {},
   "execution_count": 2
  },
  {
   "cell_type": "markdown",
   "source": [
    "## Model\n",
    "\n",
    "The governing equation of motion can be obtained as:\n",
    "\n",
    "$$\n",
    "\\ddot\\theta = \\dfrac{g}{L} \\sin(\\theta) + \\dfrac{1}{m L^2} (T - c\\dot\\theta)\n",
    "$$\n",
    "where $θ$ is the angle that the link makes with the upward vertical axis.\n",
    "The state vector is $[θ, θ']$."
   ],
   "metadata": {}
  },
  {
   "cell_type": "markdown",
   "source": [
    "model constants"
   ],
   "metadata": {}
  },
  {
   "outputs": [],
   "cell_type": "code",
   "source": [
    "const m = 0.5\n",
    "const L = 0.5\n",
    "const c = 0.0\n",
    "const g = 1.0\n",
    "const gL = g/L\n",
    "const mL = 1/(m*L^2)\n",
    "\n",
    "@taylorize function single_pendulum!(dx, x, p, t)\n",
    "    dx[1] = x[2]\n",
    "    dx[2] = gL * sin(x[1]) + mL*(x[3] - c*x[2])\n",
    "    dx[3] = zero(x[3])\n",
    "    return dx\n",
    "end\n",
    "\n",
    "controller = read_nnet(@modelpath(\"Single-Pendulum\",\n",
    "                                  \"controller_single_pendulum.nnet\"));"
   ],
   "metadata": {},
   "execution_count": 3
  },
  {
   "cell_type": "markdown",
   "source": [
    "## Specification\n",
    "\n",
    "The initial set is\n",
    "$$\n",
    "(\\theta, \\dot\\theta) \\in [1, 1.2] \\times [0, 0.2].\n",
    "$$\n",
    "The safety specification is that $θ ∈ [0, 1]$ for all control steps\n",
    "$10 ≤ n_t ≤ 20$."
   ],
   "metadata": {}
  },
  {
   "outputs": [],
   "cell_type": "code",
   "source": [
    "X0 = Hyperrectangle([1.1, 0.1], [0.1, 0.1])\n",
    "if falsification\n",
    "    # choose a single point in the initial states (here: the top-most one)\n",
    "    X0 = Singleton(high(X0))\n",
    "end\n",
    "U0 = ZeroSet(1)\n",
    "ivp = @ivp(x' = single_pendulum!(x), dim: 3, x(0) ∈ X0 × U0)\n",
    "vars_idx = Dict(:state_vars=>1:2, :control_vars=>3)\n",
    "\n",
    "period = 0.05  # control period\n",
    "if falsification\n",
    "    k = 11\n",
    "else\n",
    "    k = 20\n",
    "end\n",
    "T = k * period  # time horizon\n",
    "\n",
    "prob = ControlledPlant(ivp, controller, vars_idx, period)\n",
    "\n",
    "unsafe_states = HalfSpace(SingleEntryVector(1, 3, -1.0), -1.0)\n",
    "\n",
    "predicate = X -> overapproximate(X, Hyperrectangle) ⊆ unsafe_states\n",
    "function predicate_sol(sol; silent::Bool=false)\n",
    "    for F in sol\n",
    "        for R in F\n",
    "            t = tspan(R)\n",
    "            if t.lo >= 0.5 && t.hi <= 1.0 && predicate(R)\n",
    "                silent || println(\"violation for time range $t\")\n",
    "                return true\n",
    "            end\n",
    "        end\n",
    "    end\n",
    "    return false\n",
    "end;"
   ],
   "metadata": {},
   "execution_count": 4
  },
  {
   "cell_type": "markdown",
   "source": [
    "## Results"
   ],
   "metadata": {}
  },
  {
   "outputs": [
    {
     "name": "stdout",
     "output_type": "stream",
     "text": [
      "flowpipe construction\n",
      "  0.275835 seconds (2.88 M allocations: 265.410 MiB)\n",
      "property checking\n",
      "violation for time range [0.5, 0.509134]\n",
      "  0.065702 seconds (40.04 k allocations: 2.401 MiB)\n",
      "The property is violated.\n",
      "simulation\n",
      "  0.001666 seconds (3.58 k allocations: 308.000 KiB)\n",
      "total analysis time\n",
      "  0.371055 seconds (3.05 M allocations: 279.323 MiB)\n"
     ]
    }
   ],
   "cell_type": "code",
   "source": [
    "import DifferentialEquations\n",
    "\n",
    "alg = TMJets(abstol=1e-7, orderT=4, orderQ=1)\n",
    "alg_nn = Ai2()\n",
    "\n",
    "function benchmark(; silent::Bool=false)\n",
    "    # We solve the controlled system:\n",
    "    silent || println(\"flowpipe construction\")\n",
    "    res_sol = @timed solve(prob, T=T, alg_nn=alg_nn, alg=alg)\n",
    "    sol = res_sol.value\n",
    "    silent || print_timed(res_sol)\n",
    "\n",
    "    # Next we check the property for an overapproximated flowpipe:\n",
    "    silent || println(\"property checking\")\n",
    "    solz = overapproximate(sol, Zonotope)\n",
    "    res_pred = @timed predicate_sol(solz; silent=silent)\n",
    "    silent || print_timed(res_pred)\n",
    "    if res_pred.value\n",
    "        silent || println(\"The property is violated.\")\n",
    "    else\n",
    "        silent || println(\"The property may be satisfied.\")\n",
    "    end\n",
    "\n",
    "    # We also compute some simulations:\n",
    "    silent || println(\"simulation\")\n",
    "    trajectories = falsification ? 1 : 10\n",
    "    res_sim = @timed simulate(prob, T=T, trajectories=trajectories,\n",
    "                              include_vertices=!falsification)\n",
    "    sim = res_sim.value\n",
    "    silent || print_timed(res_sim)\n",
    "\n",
    "    return solz, sim\n",
    "end;\n",
    "\n",
    "benchmark(silent=true)  # warm-up\n",
    "res = @timed benchmark()  # benchmark\n",
    "sol, sim = res.value\n",
    "println(\"total analysis time\")\n",
    "print_timed(res);"
   ],
   "metadata": {},
   "execution_count": 5
  },
  {
   "cell_type": "markdown",
   "source": [
    "Finally we plot the results:"
   ],
   "metadata": {}
  },
  {
   "outputs": [
    {
     "output_type": "execute_result",
     "data": {
      "text/plain": "Plot{Plots.GRBackend() n=13}",
      "image/png": "[encoded data removed]"
     },
     "metadata": {},
     "execution_count": 6
    }
   ],
   "cell_type": "code",
   "source": [
    "using Plots\n",
    "import DisplayAs\n",
    "\n",
    "vars = (0, 1)\n",
    "fig = plot(ylab=\"θ\")\n",
    "unsafe_states_projected = project(unsafe_states, [vars[2]])\n",
    "time = Interval(0.5, 1.0)\n",
    "unsafe_states_projected = cartesian_product(time, unsafe_states_projected)\n",
    "plot!(fig, unsafe_states_projected, color=:red, alpha=:0.2, lab=\"unsafe states\")\n",
    "time0 = Singleton([0.0])\n",
    "if !falsification\n",
    "    plot!(fig, cartesian_product(time0, project(initial_state(prob), [vars[2]])),\n",
    "          lab=\"X₀\")\n",
    "end\n",
    "plot!(fig, sol, vars=vars, color=:yellow, lab=\"\")\n",
    "if falsification\n",
    "    xlims!(0, T)\n",
    "    ylims!(0.95, 1.22)\n",
    "else\n",
    "    xlims!(0, T)\n",
    "    ylims!(0.55, 1.3)\n",
    "end\n",
    "lab_sim = falsification ? \"simulation\" : \"\"\n",
    "plot_simulation!(fig, sim; vars=vars, color=:black, lab=lab_sim)\n",
    "fig = DisplayAs.Text(DisplayAs.PNG(fig))\n",
    "# savefig(\"Single-Pendulum.png\")\n",
    "fig"
   ],
   "metadata": {},
   "execution_count": 6
  }
 ],
 "nbformat_minor": 3,
 "metadata": {
  "language_info": {
   "file_extension": ".jl",
   "mimetype": "application/julia",
   "name": "julia",
   "version": "1.6.1"
  },
  "kernelspec": {
   "name": "julia-1.6",
   "display_name": "Julia 1.6.1",
   "language": "julia"
  }
 },
 "nbformat": 4
}
